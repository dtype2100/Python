{
  "cells": [
    {
      "cell_type": "markdown",
      "metadata": {
        "id": "wGt1Ulnsd-j9"
      },
      "source": [
        "# append( )"
      ]
    },
    {
      "cell_type": "code",
      "execution_count": null,
      "metadata": {
        "colab": {
          "base_uri": "https://localhost:8080/"
        },
        "id": "gbS_yXe-di7E",
        "outputId": "c060658e-7d53-417d-93c4-5fac78c3bd16"
      },
      "outputs": [
        {
          "data": {
            "text/plain": [
              "['red', 'blue', 'green', 'white']"
            ]
          },
          "execution_count": 1,
          "metadata": {},
          "output_type": "execute_result"
        }
      ],
      "source": [
        "color = ['red', 'blue', 'green']\n",
        "color.append('white')\n",
        "color"
      ]
    },
    {
      "cell_type": "markdown",
      "metadata": {
        "id": "nu5hv95seGpd"
      },
      "source": [
        "#expend( )"
      ]
    },
    {
      "cell_type": "code",
      "execution_count": null,
      "metadata": {
        "colab": {
          "base_uri": "https://localhost:8080/"
        },
        "id": "tmudBxOTd8nW",
        "outputId": "f8c4c266-cf32-4f16-8b28-f527bb29bc96"
      },
      "outputs": [
        {
          "data": {
            "text/plain": [
              "['red', 'blue', 'green', 'black', 'purple']"
            ]
          },
          "execution_count": 2,
          "metadata": {},
          "output_type": "execute_result"
        }
      ],
      "source": [
        "color = ['red', 'blue', 'green']\n",
        "color.extend(['black', 'purple'])\n",
        "color"
      ]
    },
    {
      "cell_type": "markdown",
      "metadata": {
        "id": "Cmj0m3NdmBq-"
      },
      "source": [
        "#insert( )"
      ]
    },
    {
      "cell_type": "code",
      "execution_count": null,
      "metadata": {
        "colab": {
          "base_uri": "https://localhost:8080/"
        },
        "id": "HZTAA6g-ejSu",
        "outputId": "e7efb5c7-9933-43fb-d268-a1586e681141"
      },
      "outputs": [
        {
          "data": {
            "text/plain": [
              "['orange', 'red', 'blue', 'green']"
            ]
          },
          "execution_count": 3,
          "metadata": {},
          "output_type": "execute_result"
        }
      ],
      "source": [
        "color = ['red', 'blue', 'green']\n",
        "color.insert(0, 'orange')\n",
        "color"
      ]
    },
    {
      "cell_type": "markdown",
      "metadata": {
        "id": "LbXajCb8muo1"
      },
      "source": [
        "# remove( )"
      ]
    },
    {
      "cell_type": "code",
      "execution_count": null,
      "metadata": {
        "colab": {
          "base_uri": "https://localhost:8080/"
        },
        "id": "RKH4-lIqmss_",
        "outputId": "6543d2b5-5b3a-4b1b-cc2c-11f7b80d8e8a"
      },
      "outputs": [
        {
          "data": {
            "text/plain": [
              "['orange', 'red', 'blue', 'green']"
            ]
          },
          "execution_count": 4,
          "metadata": {},
          "output_type": "execute_result"
        }
      ],
      "source": [
        "color"
      ]
    },
    {
      "cell_type": "code",
      "execution_count": null,
      "metadata": {
        "id": "9ejiOjpBnQa3"
      },
      "outputs": [],
      "source": [
        "color.remove('red')"
      ]
    },
    {
      "cell_type": "code",
      "execution_count": null,
      "metadata": {
        "colab": {
          "base_uri": "https://localhost:8080/"
        },
        "id": "s3Z5zYZ6na2T",
        "outputId": "057beb1a-9f46-4a37-fa86-348a1b6e9aeb"
      },
      "outputs": [
        {
          "data": {
            "text/plain": [
              "['orange', 'blue', 'green']"
            ]
          },
          "execution_count": 6,
          "metadata": {},
          "output_type": "execute_result"
        }
      ],
      "source": [
        "color"
      ]
    },
    {
      "cell_type": "markdown",
      "metadata": {
        "id": "lzkJYaeVoQZM"
      },
      "source": [
        "# 인덱스의 재할당과 삭제"
      ]
    },
    {
      "cell_type": "code",
      "execution_count": null,
      "metadata": {
        "colab": {
          "base_uri": "https://localhost:8080/"
        },
        "id": "9FfLAl0hncbb",
        "outputId": "4b55c2c3-25e4-4f62-a10a-42f25123893c"
      },
      "outputs": [
        {
          "data": {
            "text/plain": [
              "['orange', 'blue', 'green']"
            ]
          },
          "execution_count": 7,
          "metadata": {},
          "output_type": "execute_result"
        }
      ],
      "source": [
        "color = ['red', 'blue', 'green']\n",
        "color[0] = 'orange'\n",
        "color"
      ]
    },
    {
      "cell_type": "code",
      "execution_count": null,
      "metadata": {
        "colab": {
          "base_uri": "https://localhost:8080/"
        },
        "id": "SRKdt8uboBdP",
        "outputId": "607c6815-ab08-448a-b35f-ffd678797ddf"
      },
      "outputs": [
        {
          "data": {
            "text/plain": [
              "['blue', 'green']"
            ]
          },
          "execution_count": 9,
          "metadata": {},
          "output_type": "execute_result"
        }
      ],
      "source": [
        "del color[0]\n",
        "color"
      ]
    }
  ],
  "metadata": {
    "colab": {
      "name": "리스트 추가 및 삭제.ipynb",
      "provenance": []
    },
    "kernelspec": {
      "display_name": "Python 3",
      "name": "python3"
    },
    "language_info": {
      "name": "python"
    }
  },
  "nbformat": 4,
  "nbformat_minor": 0
}
