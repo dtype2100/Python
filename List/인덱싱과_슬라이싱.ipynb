{
  "nbformat": 4,
  "nbformat_minor": 0,
  "metadata": {
    "colab": {
      "name": "인덱싱과 슬라이싱.ipynb",
      "provenance": [],
      "collapsed_sections": []
    },
    "kernelspec": {
      "name": "python3",
      "display_name": "Python 3"
    },
    "language_info": {
      "name": "python"
    }
  },
  "cells": [
    {
      "cell_type": "markdown",
      "source": [
        "## 인덱싱과 슬라이싱"
      ],
      "metadata": {
        "id": "YT1piLb40hbu"
      }
    },
    {
      "cell_type": "markdown",
      "source": [
        "## 인덱싱(indexing)"
      ],
      "metadata": {
        "id": "mdUi3We2vo4m"
      }
    },
    {
      "cell_type": "code",
      "execution_count": null,
      "metadata": {
        "colab": {
          "base_uri": "https://localhost:8080/"
        },
        "id": "vxYmyMMFvfLK",
        "outputId": "566b365c-34c7-4faa-9326-5bfd913e60f6"
      },
      "outputs": [
        {
          "output_type": "stream",
          "name": "stdout",
          "text": [
            "red\n",
            "green\n",
            "3\n"
          ]
        }
      ],
      "source": [
        "colors = ['red', 'blue', 'green']\n",
        "print(colors[0])\n",
        "print(colors[2])\n",
        "print(len(colors))"
      ]
    },
    {
      "cell_type": "markdown",
      "source": [
        "## 슬라이싱(slicing)"
      ],
      "metadata": {
        "id": "Tfk5TrmUwOpN"
      }
    },
    {
      "cell_type": "code",
      "source": [
        "cities = ['서울', '부산', '인천', '대구', '대전', '광주', '울산', '수원']"
      ],
      "metadata": {
        "id": "aT_Sgw6wwCOI"
      },
      "execution_count": null,
      "outputs": []
    },
    {
      "cell_type": "code",
      "source": [
        "cities[0:6]"
      ],
      "metadata": {
        "colab": {
          "base_uri": "https://localhost:8080/"
        },
        "id": "y0zpWHK4wzm-",
        "outputId": "a4dd1b3b-d5b1-494e-c331-a5177b257cd8"
      },
      "execution_count": null,
      "outputs": [
        {
          "output_type": "execute_result",
          "data": {
            "text/plain": [
              "['서울', '부산', '인천', '대구', '대전', '광주']"
            ]
          },
          "metadata": {},
          "execution_count": 4
        }
      ]
    },
    {
      "cell_type": "code",
      "source": [
        "cities[0:5]"
      ],
      "metadata": {
        "colab": {
          "base_uri": "https://localhost:8080/"
        },
        "id": "HqVzGk4yw811",
        "outputId": "d4721bfa-08b9-407d-e38a-b13cfcd4ec45"
      },
      "execution_count": null,
      "outputs": [
        {
          "output_type": "execute_result",
          "data": {
            "text/plain": [
              "['서울', '부산', '인천', '대구', '대전']"
            ]
          },
          "metadata": {},
          "execution_count": 6
        }
      ]
    },
    {
      "cell_type": "code",
      "source": [
        "cities[5:]"
      ],
      "metadata": {
        "colab": {
          "base_uri": "https://localhost:8080/"
        },
        "id": "Ce3oAKy3xTuO",
        "outputId": "ba4daf82-61f5-452b-e0db-b4df3988ac2a"
      },
      "execution_count": null,
      "outputs": [
        {
          "output_type": "execute_result",
          "data": {
            "text/plain": [
              "['광주', '울산', '수원']"
            ]
          },
          "metadata": {},
          "execution_count": 7
        }
      ]
    },
    {
      "cell_type": "markdown",
      "source": [
        "## 리버스 인덱스(reverse index)"
      ],
      "metadata": {
        "id": "XZXvZiuHyMJ1"
      }
    },
    {
      "cell_type": "code",
      "source": [
        "cities = ['서울', '부산', '인천', '대구', '대전', '광주', '울산', '수원']\n",
        "print(cities[-8:])"
      ],
      "metadata": {
        "colab": {
          "base_uri": "https://localhost:8080/"
        },
        "id": "dn-eHsSsxX8U",
        "outputId": "558d5b18-bb4e-4769-f886-6bb4757ea7f5"
      },
      "execution_count": null,
      "outputs": [
        {
          "output_type": "stream",
          "name": "stdout",
          "text": [
            "['서울', '부산', '인천', '대구', '대전', '광주', '울산', '수원']\n"
          ]
        }
      ]
    },
    {
      "cell_type": "code",
      "source": [
        "cities = ['서울', '부산', '인천', '대구', '대전', '광주', '울산', '수원']\n",
        "print(cities[:])"
      ],
      "metadata": {
        "colab": {
          "base_uri": "https://localhost:8080/"
        },
        "id": "t-2YQaqAy0z9",
        "outputId": "9cf22c14-fa34-40ae-e92a-ccc132ef17b5"
      },
      "execution_count": null,
      "outputs": [
        {
          "output_type": "stream",
          "name": "stdout",
          "text": [
            "['서울', '부산', '인천', '대구', '대전', '광주', '울산', '수원']\n"
          ]
        }
      ]
    },
    {
      "cell_type": "code",
      "source": [
        "print(cities[-50:50])"
      ],
      "metadata": {
        "colab": {
          "base_uri": "https://localhost:8080/"
        },
        "id": "zYcUM52rzLIP",
        "outputId": "c5c7e2bc-9551-4c2f-87be-5f87585c54d6"
      },
      "execution_count": null,
      "outputs": [
        {
          "output_type": "stream",
          "name": "stdout",
          "text": [
            "['서울', '부산', '인천', '대구', '대전', '광주', '울산', '수원']\n"
          ]
        }
      ]
    },
    {
      "cell_type": "markdown",
      "source": [
        "## 인덱스 범위를 넘어가는 슬라이싱(slicing with index)"
      ],
      "metadata": {
        "id": "m8wdD-aezh5P"
      }
    },
    {
      "cell_type": "code",
      "source": [
        "cities = ['서울', '부산', '인천', '대구', '대전', '광주', '울산', '수원']\n",
        "print(cities[:])"
      ],
      "metadata": {
        "colab": {
          "base_uri": "https://localhost:8080/"
        },
        "id": "u7gz6KNezQOd",
        "outputId": "6088410c-80b4-4318-9e09-ec009e3f4665"
      },
      "execution_count": null,
      "outputs": [
        {
          "output_type": "stream",
          "name": "stdout",
          "text": [
            "['서울', '부산', '인천', '대구', '대전', '광주', '울산', '수원']\n"
          ]
        }
      ]
    },
    {
      "cell_type": "code",
      "source": [
        "print(cities[-50:50])"
      ],
      "metadata": {
        "colab": {
          "base_uri": "https://localhost:8080/"
        },
        "id": "kSyYeMNZ0Fks",
        "outputId": "e8fad4f6-dd35-4953-e4d6-9f37d5324f25"
      },
      "execution_count": null,
      "outputs": [
        {
          "output_type": "stream",
          "name": "stdout",
          "text": [
            "['서울', '부산', '인천', '대구', '대전', '광주', '울산', '수원']\n"
          ]
        }
      ]
    },
    {
      "cell_type": "markdown",
      "source": [
        "## 증가값(step)"
      ],
      "metadata": {
        "id": "kI6Kuqp_0bTF"
      }
    },
    {
      "cell_type": "code",
      "source": [
        "cities = ['서울', '부산', '인천', '대구', '대전', '광주', '울산', '수원']\n",
        "cities[::2] # 2칸 간격으로 출력"
      ],
      "metadata": {
        "colab": {
          "base_uri": "https://localhost:8080/"
        },
        "id": "DPCEmyB-0K4c",
        "outputId": "0c4cdeaf-5195-4bd2-e785-0535b6c19b3a"
      },
      "execution_count": null,
      "outputs": [
        {
          "output_type": "execute_result",
          "data": {
            "text/plain": [
              "['서울', '인천', '대전', '울산']"
            ]
          },
          "metadata": {},
          "execution_count": 13
        }
      ]
    },
    {
      "cell_type": "code",
      "source": [
        "cities[::-1] # 역순으로 출력"
      ],
      "metadata": {
        "colab": {
          "base_uri": "https://localhost:8080/"
        },
        "id": "NCIMtSrF7u2y",
        "outputId": "3c79936d-50fa-47d2-b2d2-a644488b78c7"
      },
      "execution_count": null,
      "outputs": [
        {
          "output_type": "execute_result",
          "data": {
            "text/plain": [
              "['수원', '울산', '광주', '대전', '대구', '인천', '부산', '서울']"
            ]
          },
          "metadata": {},
          "execution_count": 17
        }
      ]
    }
  ]
}