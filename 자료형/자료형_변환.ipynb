{
  "nbformat": 4,
  "nbformat_minor": 0,
  "metadata": {
    "colab": {
      "name": "자료형 변환.ipynb",
      "provenance": [],
      "collapsed_sections": []
    },
    "kernelspec": {
      "name": "python3",
      "display_name": "Python 3"
    },
    "language_info": {
      "name": "python"
    }
  },
  "cells": [
    {
      "cell_type": "markdown",
      "source": [
        "# 숫자형과 문자형 간 변환"
      ],
      "metadata": {
        "id": "1WT1LSm6CQg4"
      }
    },
    {
      "cell_type": "code",
      "execution_count": 1,
      "metadata": {
        "id": "o1TfigiVBwqf"
      },
      "outputs": [],
      "source": [
        "a = '76.3'\n",
        "b = float(a)"
      ]
    },
    {
      "cell_type": "code",
      "source": [
        "print(a)"
      ],
      "metadata": {
        "colab": {
          "base_uri": "https://localhost:8080/"
        },
        "id": "a1zVnRByB27B",
        "outputId": "76a0fa03-ac43-4f36-b7ef-60f9b8ed0666"
      },
      "execution_count": 2,
      "outputs": [
        {
          "output_type": "stream",
          "name": "stdout",
          "text": [
            "76.3\n"
          ]
        }
      ]
    },
    {
      "cell_type": "code",
      "source": [
        "print(b)"
      ],
      "metadata": {
        "colab": {
          "base_uri": "https://localhost:8080/"
        },
        "id": "tP3JvXlHB8-I",
        "outputId": "96aa16bf-311c-407d-be03-c0a17429dfd3"
      },
      "execution_count": 3,
      "outputs": [
        {
          "output_type": "stream",
          "name": "stdout",
          "text": [
            "76.3\n"
          ]
        }
      ]
    },
    {
      "cell_type": "code",
      "source": [
        "print(a + b) # 문자열과 숫자열의 덧셈이 불가능하여 에러"
      ],
      "metadata": {
        "colab": {
          "base_uri": "https://localhost:8080/",
          "height": 172
        },
        "id": "I_LO6AkrB9pg",
        "outputId": "5e6fdab4-f4ef-4a3d-9b82-fa06f32367c1"
      },
      "execution_count": 4,
      "outputs": [
        {
          "output_type": "error",
          "ename": "TypeError",
          "evalue": "ignored",
          "traceback": [
            "\u001b[0;31m---------------------------------------------------------------------------\u001b[0m",
            "\u001b[0;31mTypeError\u001b[0m                                 Traceback (most recent call last)",
            "\u001b[0;32m<ipython-input-4-b6c51be24255>\u001b[0m in \u001b[0;36m<module>\u001b[0;34m()\u001b[0m\n\u001b[0;32m----> 1\u001b[0;31m \u001b[0mprint\u001b[0m\u001b[0;34m(\u001b[0m\u001b[0ma\u001b[0m \u001b[0;34m+\u001b[0m \u001b[0mb\u001b[0m\u001b[0;34m)\u001b[0m \u001b[0;31m# 문자열과 숫자열의 덧셈이 불가능하여 에러\u001b[0m\u001b[0;34m\u001b[0m\u001b[0;34m\u001b[0m\u001b[0m\n\u001b[0m",
            "\u001b[0;31mTypeError\u001b[0m: can only concatenate str (not \"float\") to str"
          ]
        }
      ]
    },
    {
      "cell_type": "code",
      "source": [
        "a = float(a)\n",
        "b = a\n",
        "print(a + b) # 두 실수를 더한 후 출력"
      ],
      "metadata": {
        "colab": {
          "base_uri": "https://localhost:8080/"
        },
        "id": "23Vj-AkkB-RI",
        "outputId": "62c60e12-467e-46cb-b52f-f874d98af263"
      },
      "execution_count": 5,
      "outputs": [
        {
          "output_type": "stream",
          "name": "stdout",
          "text": [
            "152.6\n"
          ]
        }
      ]
    },
    {
      "cell_type": "code",
      "source": [
        "a = str(a)\n",
        "b = str(b)\n",
        "print(a + b) # 문자열 간 덧셈은 문자열 간 단순 연결"
      ],
      "metadata": {
        "colab": {
          "base_uri": "https://localhost:8080/"
        },
        "id": "hGtxA7iWCOS4",
        "outputId": "223d85b8-203e-469b-ecaf-01c074a04a71"
      },
      "execution_count": 6,
      "outputs": [
        {
          "output_type": "stream",
          "name": "stdout",
          "text": [
            "76.376.3\n"
          ]
        }
      ]
    },
    {
      "cell_type": "markdown",
      "source": [
        "## 자료형 확인"
      ],
      "metadata": {
        "id": "OqE1mQ_zDA4P"
      }
    },
    {
      "cell_type": "code",
      "source": [
        "a = int(10.3)\n",
        "b = float(10.3)\n",
        "c = str(10.3)"
      ],
      "metadata": {
        "id": "8TtG2DUkCuYw"
      },
      "execution_count": 7,
      "outputs": []
    },
    {
      "cell_type": "code",
      "source": [
        "type(a)"
      ],
      "metadata": {
        "colab": {
          "base_uri": "https://localhost:8080/"
        },
        "id": "zqk2k3nuDMk4",
        "outputId": "bb467a83-8273-455d-b796-9ed7f1078d0e"
      },
      "execution_count": 8,
      "outputs": [
        {
          "output_type": "execute_result",
          "data": {
            "text/plain": [
              "int"
            ]
          },
          "metadata": {},
          "execution_count": 8
        }
      ]
    },
    {
      "cell_type": "code",
      "source": [
        "type(b)"
      ],
      "metadata": {
        "colab": {
          "base_uri": "https://localhost:8080/"
        },
        "id": "ZdJaAI4DDN_I",
        "outputId": "0e36b08f-d1b0-4eec-d251-2f0cff9c2833"
      },
      "execution_count": 9,
      "outputs": [
        {
          "output_type": "execute_result",
          "data": {
            "text/plain": [
              "float"
            ]
          },
          "metadata": {},
          "execution_count": 9
        }
      ]
    },
    {
      "cell_type": "code",
      "source": [
        "type(c)"
      ],
      "metadata": {
        "colab": {
          "base_uri": "https://localhost:8080/"
        },
        "id": "l1hUI9HwDO8w",
        "outputId": "b08c2dd5-4c72-4cc3-a336-acda62fde6f2"
      },
      "execution_count": 10,
      "outputs": [
        {
          "output_type": "execute_result",
          "data": {
            "text/plain": [
              "str"
            ]
          },
          "metadata": {},
          "execution_count": 10
        }
      ]
    }
  ]
}