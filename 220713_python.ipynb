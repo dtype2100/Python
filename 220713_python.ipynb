{
  "nbformat": 4,
  "nbformat_minor": 0,
  "metadata": {
    "colab": {
      "name": "220713_python.ipynb",
      "provenance": [],
      "collapsed_sections": [],
      "mount_file_id": "1YIc41QmswgqHvpovpKv7fxK8eGb-s2kD",
      "authorship_tag": "ABX9TyO8RWfG/ffDSf8hOYjRBtka",
      "include_colab_link": true
    },
    "kernelspec": {
      "name": "python3",
      "display_name": "Python 3"
    },
    "language_info": {
      "name": "python"
    }
  },
  "cells": [
    {
      "cell_type": "markdown",
      "metadata": {
        "id": "view-in-github",
        "colab_type": "text"
      },
      "source": [
        "<a href=\"https://colab.research.google.com/github/dtype2100/Python/blob/master/220713_python.ipynb\" target=\"_parent\"><img src=\"https://colab.research.google.com/assets/colab-badge.svg\" alt=\"Open In Colab\"/></a>"
      ]
    },
    {
      "cell_type": "markdown",
      "source": [
        "# 클래스 관련 용어 정리\n",
        "- 클래스: 객체를 만들기 위한 사용자 정의 자료형\n",
        "- 객체: 클래스를 기반으로 만들어진 구체적인 객체\n",
        "- 메서드: 객체의 기능을 반영하여 클래스 내부에 선언된 함수\n",
        "- 상속: 어떤 클래스의 특성을 다른 클래스에 전달하는 기법\n",
        "- 메서드 오버라이딩: 같은 함수에 여러 기능을 부여하는 구현 기법"
      ],
      "metadata": {
        "id": "_Ph6-5sn3vQr"
      }
    },
    {
      "cell_type": "code",
      "source": [
        "a = input()\n",
        "\n",
        "type(a)"
      ],
      "metadata": {
        "colab": {
          "base_uri": "https://localhost:8080/"
        },
        "id": "7v9eq0RpCuCN",
        "outputId": "9450cf98-2638-47ee-9fb5-3d921b0add9b"
      },
      "execution_count": null,
      "outputs": [
        {
          "name": "stdout",
          "output_type": "stream",
          "text": [
            "1\n"
          ]
        },
        {
          "output_type": "execute_result",
          "data": {
            "text/plain": [
              "str"
            ]
          },
          "metadata": {},
          "execution_count": 45
        }
      ]
    },
    {
      "cell_type": "code",
      "source": [
        "number = input()\n",
        "\n",
        "number\n",
        "type(number)"
      ],
      "metadata": {
        "id": "vimpyqRCCyCL",
        "colab": {
          "base_uri": "https://localhost:8080/"
        },
        "outputId": "e662db64-5086-457e-9239-fa21f8699b8d"
      },
      "execution_count": null,
      "outputs": [
        {
          "name": "stdout",
          "output_type": "stream",
          "text": [
            "1\n"
          ]
        },
        {
          "output_type": "execute_result",
          "data": {
            "text/plain": [
              "str"
            ]
          },
          "metadata": {},
          "execution_count": 46
        }
      ]
    },
    {
      "cell_type": "code",
      "source": [
        "a = 123\n",
        "print(a)"
      ],
      "metadata": {
        "id": "Tq2UoR1YCypW",
        "colab": {
          "base_uri": "https://localhost:8080/"
        },
        "outputId": "0508e0f1-d16f-4c22-a50b-b1e258b96463"
      },
      "execution_count": null,
      "outputs": [
        {
          "output_type": "stream",
          "name": "stdout",
          "text": [
            "123\n"
          ]
        }
      ]
    },
    {
      "cell_type": "code",
      "execution_count": null,
      "metadata": {
        "colab": {
          "base_uri": "https://localhost:8080/"
        },
        "id": "J0OqFG8RCCBO",
        "outputId": "46741b50-dba2-4b82-b3b4-4f59f14fcdb2"
      },
      "outputs": [
        {
          "output_type": "stream",
          "name": "stdout",
          "text": [
            "123\n"
          ]
        }
      ],
      "source": [
        "a = 123\n",
        "print(a)"
      ]
    },
    {
      "cell_type": "code",
      "source": [
        "a = \"python\"\n",
        "print(a)"
      ],
      "metadata": {
        "colab": {
          "base_uri": "https://localhost:8080/"
        },
        "id": "99fg6UjLCJm-",
        "outputId": "16b605b6-b6b9-4d39-cc1e-5d3c47c5e3df"
      },
      "execution_count": null,
      "outputs": [
        {
          "output_type": "stream",
          "name": "stdout",
          "text": [
            "python\n"
          ]
        }
      ]
    },
    {
      "cell_type": "code",
      "source": [
        "a = [1, 2, 3]\n",
        "print(a)"
      ],
      "metadata": {
        "colab": {
          "base_uri": "https://localhost:8080/"
        },
        "id": "5_cntyN4CNo9",
        "outputId": "dd9f4f79-d3da-4d1f-a9f4-5e41c94b8ac0"
      },
      "execution_count": null,
      "outputs": [
        {
          "output_type": "stream",
          "name": "stdout",
          "text": [
            "[1, 2, 3]\n"
          ]
        }
      ]
    },
    {
      "cell_type": "code",
      "source": [
        "print(\"life\" \"is\" \"too short\")"
      ],
      "metadata": {
        "colab": {
          "base_uri": "https://localhost:8080/"
        },
        "id": "dqMZCN1XCQ99",
        "outputId": "535234ae-fbb2-4724-fd6a-02212a43cea0"
      },
      "execution_count": null,
      "outputs": [
        {
          "output_type": "stream",
          "name": "stdout",
          "text": [
            "lifeistoo short\n"
          ]
        }
      ]
    },
    {
      "cell_type": "code",
      "source": [
        "print(\"life\"+\"is\"+\"too short\")"
      ],
      "metadata": {
        "colab": {
          "base_uri": "https://localhost:8080/"
        },
        "id": "ZWhanl-XCXmN",
        "outputId": "b43181a4-1c5e-4bf7-899e-9ed2739aa874"
      },
      "execution_count": null,
      "outputs": [
        {
          "output_type": "stream",
          "name": "stdout",
          "text": [
            "lifeistoo short\n"
          ]
        }
      ]
    },
    {
      "cell_type": "code",
      "source": [
        "print(\"life\", \"is\", \"too short\")"
      ],
      "metadata": {
        "colab": {
          "base_uri": "https://localhost:8080/"
        },
        "id": "DeD6VmU5CeWN",
        "outputId": "a9b481fe-6b32-42d1-a2e6-2e3dcf4aa3e9"
      },
      "execution_count": null,
      "outputs": [
        {
          "output_type": "stream",
          "name": "stdout",
          "text": [
            "life is too short\n"
          ]
        }
      ]
    },
    {
      "cell_type": "code",
      "source": [
        "for i in range(10):\n",
        "  print(i, end=' ')"
      ],
      "metadata": {
        "colab": {
          "base_uri": "https://localhost:8080/"
        },
        "id": "8c4PTocOCixt",
        "outputId": "08e5c2ee-a8c3-4543-8c26-f35b38ff7374"
      },
      "execution_count": null,
      "outputs": [
        {
          "output_type": "stream",
          "name": "stdout",
          "text": [
            "0 1 2 3 4 5 6 7 8 9 "
          ]
        }
      ]
    },
    {
      "cell_type": "code",
      "source": [
        "f = open(\"doit\", \"w\")\n",
        "f.close()"
      ],
      "metadata": {
        "id": "ZtbeFCuqCow8"
      },
      "execution_count": null,
      "outputs": []
    },
    {
      "cell_type": "code",
      "source": [
        "f = open(\"/content/drive/MyDrive/Blog/새파일.txt\", \"w\")\n",
        "f.close()"
      ],
      "metadata": {
        "id": "kYoVRx5QDS9s"
      },
      "execution_count": null,
      "outputs": []
    },
    {
      "cell_type": "code",
      "source": [
        "f = open(\"/content/drive/MyDrive/Blog/새파일.txt\", \"w\")\n",
        "for i in range(1, 11):\n",
        "    data = \"%d번째 줄입니다.\\n\" % i\n",
        "    f.write(data)\n",
        "f.close()"
      ],
      "metadata": {
        "id": "eKuHFHE-Doyt"
      },
      "execution_count": null,
      "outputs": []
    },
    {
      "cell_type": "code",
      "source": [
        "for i in range(1, 11):\n",
        "    data = \"%d번째 줄입니다.\\n\" % i\n",
        "    print(data)"
      ],
      "metadata": {
        "colab": {
          "base_uri": "https://localhost:8080/"
        },
        "id": "B8NeQv6FFFCE",
        "outputId": "358f9053-a83e-464c-898a-8ed54af98d5f"
      },
      "execution_count": null,
      "outputs": [
        {
          "output_type": "stream",
          "name": "stdout",
          "text": [
            "1번째 줄입니다.\n",
            "\n",
            "2번째 줄입니다.\n",
            "\n",
            "3번째 줄입니다.\n",
            "\n",
            "4번째 줄입니다.\n",
            "\n",
            "5번째 줄입니다.\n",
            "\n",
            "6번째 줄입니다.\n",
            "\n",
            "7번째 줄입니다.\n",
            "\n",
            "8번째 줄입니다.\n",
            "\n",
            "9번째 줄입니다.\n",
            "\n",
            "10번째 줄입니다.\n",
            "\n"
          ]
        }
      ]
    },
    {
      "cell_type": "code",
      "source": [
        "f = open(\"/content/drive/MyDrive/Blog/새파일.txt\", \"r\")\n",
        "while True:\n",
        "    line = f.readline()\n",
        "    if not line: break\n",
        "    print(line) \n",
        "f.close()"
      ],
      "metadata": {
        "colab": {
          "base_uri": "https://localhost:8080/"
        },
        "id": "ay3PQVPOFVCO",
        "outputId": "207d54b2-774a-450a-d4f1-bc655128581d"
      },
      "execution_count": null,
      "outputs": [
        {
          "output_type": "stream",
          "name": "stdout",
          "text": [
            "1번째 줄입니다.\n",
            "\n",
            "2번째 줄입니다.\n",
            "\n",
            "3번째 줄입니다.\n",
            "\n",
            "4번째 줄입니다.\n",
            "\n",
            "5번째 줄입니다.\n",
            "\n",
            "6번째 줄입니다.\n",
            "\n",
            "7번째 줄입니다.\n",
            "\n",
            "8번째 줄입니다.\n",
            "\n",
            "9번째 줄입니다.\n",
            "\n",
            "10번째 줄입니다.\n",
            "\n"
          ]
        }
      ]
    },
    {
      "cell_type": "code",
      "source": [
        "f = open(\"/content/drive/MyDrive/Blog/새파일.txt\", \"r\")\n",
        "lines = f.readlines()\n",
        "for line in lines:\n",
        "  print(line)\n",
        "f.close()"
      ],
      "metadata": {
        "colab": {
          "base_uri": "https://localhost:8080/"
        },
        "id": "oGBtDLelGft9",
        "outputId": "eb06ff3f-ac4f-465f-f8a9-c65d97d21afc"
      },
      "execution_count": null,
      "outputs": [
        {
          "output_type": "stream",
          "name": "stdout",
          "text": [
            "1번째 줄입니다.\n",
            "\n",
            "2번째 줄입니다.\n",
            "\n",
            "3번째 줄입니다.\n",
            "\n",
            "4번째 줄입니다.\n",
            "\n",
            "5번째 줄입니다.\n",
            "\n",
            "6번째 줄입니다.\n",
            "\n",
            "7번째 줄입니다.\n",
            "\n",
            "8번째 줄입니다.\n",
            "\n",
            "9번째 줄입니다.\n",
            "\n",
            "10번째 줄입니다.\n",
            "\n"
          ]
        }
      ]
    },
    {
      "cell_type": "code",
      "source": [
        "f = open(\"/content/drive/MyDrive/Blog/새파일.txt\", \"r\")\n",
        "lines = f.readlines()\n",
        "for line in lines:\n",
        "  line = line.strip()\n",
        "  print(line)\n",
        "f.close()"
      ],
      "metadata": {
        "colab": {
          "base_uri": "https://localhost:8080/"
        },
        "id": "ym4nF6uMGrsV",
        "outputId": "f6bd14b8-b7ca-4d43-efd8-f1850cf58821"
      },
      "execution_count": null,
      "outputs": [
        {
          "output_type": "stream",
          "name": "stdout",
          "text": [
            "1번째 줄입니다.\n",
            "2번째 줄입니다.\n",
            "3번째 줄입니다.\n",
            "4번째 줄입니다.\n",
            "5번째 줄입니다.\n",
            "6번째 줄입니다.\n",
            "7번째 줄입니다.\n",
            "8번째 줄입니다.\n",
            "9번째 줄입니다.\n",
            "10번째 줄입니다.\n"
          ]
        }
      ]
    },
    {
      "cell_type": "code",
      "source": [
        "f = open(\"/content/drive/MyDrive/Blog/새파일.txt\", \"r\")\n",
        "lines = f.read()\n",
        "print(data)\n",
        "f.close()"
      ],
      "metadata": {
        "colab": {
          "base_uri": "https://localhost:8080/"
        },
        "id": "LZNfCwKaHc0t",
        "outputId": "dfaaf745-88a2-4a9a-b06e-5380888324da"
      },
      "execution_count": null,
      "outputs": [
        {
          "output_type": "stream",
          "name": "stdout",
          "text": [
            "10번째 줄입니다.\n",
            "\n"
          ]
        }
      ]
    },
    {
      "cell_type": "code",
      "source": [
        "f = open(\"/content/drive/MyDrive/Blog/새파일.txt\", \"a\")\n",
        "for i in range(11, 20):\n",
        "  data = \"%d번째 줄입니다. \\n\" % i\n",
        "  f.write(data)\n",
        "f.close()"
      ],
      "metadata": {
        "id": "oVPgK8kyHnPt"
      },
      "execution_count": null,
      "outputs": []
    },
    {
      "cell_type": "code",
      "source": [
        "with open(\"/content/drive/MyDrive/Blog/새파일.txt\", \"w\") as f:\n",
        "  f.write(\"Life is too short, you need python\")"
      ],
      "metadata": {
        "id": "DFTCXHanH9-l"
      },
      "execution_count": null,
      "outputs": []
    },
    {
      "cell_type": "code",
      "source": [
        "with open(\"/content/drive/MyDrive/Blog/dream1.txt\", \"r\") as my_file:\n",
        "  data = my_file.read()\n",
        "print(data)"
      ],
      "metadata": {
        "colab": {
          "base_uri": "https://localhost:8080/"
        },
        "id": "guOe2vS2Qgs9",
        "outputId": "295119f5-1f0f-4e85-fd5b-81e1fb3c60c0"
      },
      "execution_count": null,
      "outputs": [
        {
          "output_type": "stream",
          "name": "stdout",
          "text": [
            "\n"
          ]
        }
      ]
    },
    {
      "cell_type": "code",
      "source": [
        "with open(\"/content/drive/MyDrive/Blog/dream1.txt\", \"r\") as my_file:\n",
        "    contents = my_file.read()\n",
        "    word_list = contents.split(\" \")\n",
        "    line_list = contents.split(\"\\n\")\n",
        "print(\"총글자수\", len(contents))\n",
        "print(\"총단어수\", len(word_list))\n",
        "print(\"총 줄수\", len(line_list))"
      ],
      "metadata": {
        "colab": {
          "base_uri": "https://localhost:8080/"
        },
        "id": "lFxaPqN7QVd9",
        "outputId": "c076fbf6-4bcf-4470-a72c-aac8c6930bf2"
      },
      "execution_count": null,
      "outputs": [
        {
          "output_type": "stream",
          "name": "stdout",
          "text": [
            "총글자수 0\n",
            "총단어수 1\n",
            "총 줄수 1\n"
          ]
        }
      ]
    },
    {
      "cell_type": "code",
      "source": [
        "result = 0\n",
        "def add(num):\n",
        "    global result\n",
        "    result += num\n",
        "    return result\n",
        "print(add(3))\n",
        "print(add(4))"
      ],
      "metadata": {
        "colab": {
          "base_uri": "https://localhost:8080/"
        },
        "id": "JQbrB2FqQdYs",
        "outputId": "59666d1f-387f-41e0-f06e-e2f82204810f"
      },
      "execution_count": null,
      "outputs": [
        {
          "output_type": "stream",
          "name": "stdout",
          "text": [
            "3\n",
            "7\n"
          ]
        }
      ]
    },
    {
      "cell_type": "code",
      "source": [
        "result1 = 0\n",
        "result2 = 0\n",
        "def add1(num):\n",
        "    global result1\n",
        "    result1 += num\n",
        "    return result1\n",
        "\n",
        "def add2(num):\n",
        "    global result2\n",
        "    result2 += num\n",
        "    return result2\n",
        "print(add1(3))\n",
        "print(add1(4))\n",
        "print(add2(3))\n",
        "print(add2(7))"
      ],
      "metadata": {
        "colab": {
          "base_uri": "https://localhost:8080/"
        },
        "id": "cvUhf8mrTMdN",
        "outputId": "fc69a2a9-fa73-4054-f212-c0b8c653f3a2"
      },
      "execution_count": null,
      "outputs": [
        {
          "output_type": "stream",
          "name": "stdout",
          "text": [
            "3\n",
            "7\n",
            "3\n",
            "10\n"
          ]
        }
      ]
    },
    {
      "cell_type": "code",
      "source": [
        "class Calculator:\n",
        "  def __init__(self):\n",
        "    self.result = 0\n",
        "\n",
        "  def add(self, num):\n",
        "    self.result += num\n",
        "    return self.result\n",
        "\n",
        "  def sub(self, num):\n",
        "    self.result -= num\n",
        "    return self.result\n",
        "\n",
        "cal1 = Calculator()\n",
        "cal2 = Calculator()\n",
        "cal3 = Calculator()\n",
        "\n",
        "print(cal1.add(3))\n",
        "print(cal1.add(3))\n",
        "print(cal2.add(3))\n",
        "print(cal2.add(3))\n",
        "print(cal3.sub(10))\n",
        "print(cal3.sub(6))"
      ],
      "metadata": {
        "colab": {
          "base_uri": "https://localhost:8080/"
        },
        "id": "E3eqnvv-TN38",
        "outputId": "5e7084e2-99a2-43f6-cf50-f1498efbcc9a"
      },
      "execution_count": null,
      "outputs": [
        {
          "output_type": "stream",
          "name": "stdout",
          "text": [
            "3\n",
            "6\n",
            "3\n",
            "6\n",
            "-10\n",
            "-16\n"
          ]
        }
      ]
    },
    {
      "cell_type": "code",
      "source": [
        "# class 안에 선언된 add, sub같은 함수를 메서드라 부름\n",
        "\n",
        "class Calculator:\n",
        "  def __init__(self):\n",
        "    self.result = 0\n",
        "\n",
        "  def add(self, num):\n",
        "    self.result += num\n",
        "    return self.result\n",
        "\n",
        "  def sub(self, num):\n",
        "    self.result -= num\n",
        "    return self.result\n",
        "\n",
        "cal1 = Calculator()\n",
        "cal2 = Calculator()\n",
        "\n",
        "print(cal1.sub(7))\n",
        "print(cal1.sub(6))"
      ],
      "metadata": {
        "colab": {
          "base_uri": "https://localhost:8080/"
        },
        "id": "BcXGZAQyT6CF",
        "outputId": "13df2b5b-45b2-48e3-abc0-87d69239f034"
      },
      "execution_count": null,
      "outputs": [
        {
          "output_type": "stream",
          "name": "stdout",
          "text": [
            "-7\n",
            "-13\n"
          ]
        }
      ]
    },
    {
      "cell_type": "code",
      "source": [
        "class FourCal:\n",
        "  def setdata(self, first, second):\n",
        "    self.first = first\n",
        "    self.second = second"
      ],
      "metadata": {
        "id": "01xIIeF3dK1r"
      },
      "execution_count": null,
      "outputs": []
    },
    {
      "cell_type": "code",
      "source": [
        "a = FourCal()\n",
        "a.setdata(4, 2)\n",
        "print(a.first)\n",
        "print(a.second)"
      ],
      "metadata": {
        "colab": {
          "base_uri": "https://localhost:8080/"
        },
        "id": "cOX91ShVdtF8",
        "outputId": "6030ce1c-6b20-4a11-d353-48b5534ee4b8"
      },
      "execution_count": null,
      "outputs": [
        {
          "output_type": "stream",
          "name": "stdout",
          "text": [
            "4\n",
            "2\n"
          ]
        }
      ]
    },
    {
      "cell_type": "code",
      "source": [
        "a = FourCal()\n",
        "b = FourCal()"
      ],
      "metadata": {
        "id": "Pn6xEGoIeslh"
      },
      "execution_count": null,
      "outputs": []
    },
    {
      "cell_type": "code",
      "source": [
        "a.setdata(4, 2)\n",
        "print(a.first)"
      ],
      "metadata": {
        "colab": {
          "base_uri": "https://localhost:8080/"
        },
        "id": "Gwfpoq8zeyOw",
        "outputId": "104863f6-9646-47d0-cc4c-b5de6de0ac8a"
      },
      "execution_count": null,
      "outputs": [
        {
          "output_type": "stream",
          "name": "stdout",
          "text": [
            "4\n"
          ]
        }
      ]
    },
    {
      "cell_type": "code",
      "source": [
        "b.setdata(3, 7)\n",
        "print(b.first)"
      ],
      "metadata": {
        "colab": {
          "base_uri": "https://localhost:8080/"
        },
        "id": "D29KbVBbe1LQ",
        "outputId": "70a0c038-5dcb-4265-de98-11a89dc4767a"
      },
      "execution_count": null,
      "outputs": [
        {
          "output_type": "stream",
          "name": "stdout",
          "text": [
            "3\n"
          ]
        }
      ]
    },
    {
      "cell_type": "code",
      "source": [
        "id(a.first)"
      ],
      "metadata": {
        "colab": {
          "base_uri": "https://localhost:8080/"
        },
        "id": "8k3TKlaEft63",
        "outputId": "a44916fc-c5ac-4e9b-e0dc-65bc21c719e7"
      },
      "execution_count": null,
      "outputs": [
        {
          "output_type": "execute_result",
          "data": {
            "text/plain": [
              "11256160"
            ]
          },
          "metadata": {},
          "execution_count": 111
        }
      ]
    },
    {
      "cell_type": "code",
      "source": [
        "id(b.first)"
      ],
      "metadata": {
        "colab": {
          "base_uri": "https://localhost:8080/"
        },
        "id": "_mEJcdfUft4Y",
        "outputId": "bcbc4953-0d2b-4744-9cf7-ed421be749aa"
      },
      "execution_count": null,
      "outputs": [
        {
          "output_type": "execute_result",
          "data": {
            "text/plain": [
              "11256128"
            ]
          },
          "metadata": {},
          "execution_count": 112
        }
      ]
    },
    {
      "cell_type": "code",
      "source": [
        "class FourCal:\n",
        "  def setdata(self, first, second):\n",
        "    self.first = first\n",
        "    self.second = second\n",
        "  def add(self):\n",
        "    result = self.first + self.second\n",
        "    return result"
      ],
      "metadata": {
        "id": "RJH7iSngfFVs"
      },
      "execution_count": null,
      "outputs": []
    },
    {
      "cell_type": "code",
      "source": [
        "a = FourCal()\n",
        "a.setdata(4, 2)\n",
        "print(a.add())"
      ],
      "metadata": {
        "colab": {
          "base_uri": "https://localhost:8080/"
        },
        "id": "dEj6CMzjf_Is",
        "outputId": "16d4d20d-abf0-4bfb-9123-a93cbf8eaaf4"
      },
      "execution_count": null,
      "outputs": [
        {
          "output_type": "stream",
          "name": "stdout",
          "text": [
            "6\n"
          ]
        }
      ]
    },
    {
      "cell_type": "code",
      "source": [
        "class FourCal:\n",
        "  def setdata(self, first, second):\n",
        "    self.first = first\n",
        "    self.second = second\n",
        "  def add(self):\n",
        "    result = self.first + self.second\n",
        "    return result\n",
        "  def mul(self):\n",
        "    result = self.first * self.second\n",
        "    return result\n",
        "  def sub(self):\n",
        "    result = self.first - self.second\n",
        "  def div(self):\n",
        "    result = self.first / self.second\n",
        "    return result"
      ],
      "metadata": {
        "id": "pzbUeEECgwkL"
      },
      "execution_count": null,
      "outputs": []
    },
    {
      "cell_type": "code",
      "source": [
        "a = FourCal()\n",
        "b = FourCal()\n",
        "a.setdata(4, 2)\n",
        "b.setdata(3, 8)"
      ],
      "metadata": {
        "id": "hACXur4BhgWc"
      },
      "execution_count": null,
      "outputs": []
    },
    {
      "cell_type": "code",
      "source": [
        "a.add()"
      ],
      "metadata": {
        "colab": {
          "base_uri": "https://localhost:8080/"
        },
        "id": "G_cXCnsohzos",
        "outputId": "1de3060e-1e9b-477c-e8eb-bbfc392c649c"
      },
      "execution_count": null,
      "outputs": [
        {
          "output_type": "execute_result",
          "data": {
            "text/plain": [
              "6"
            ]
          },
          "metadata": {},
          "execution_count": 127
        }
      ]
    },
    {
      "cell_type": "code",
      "source": [
        "a.mul()"
      ],
      "metadata": {
        "colab": {
          "base_uri": "https://localhost:8080/"
        },
        "id": "Bq01mAydh03r",
        "outputId": "cd090673-b30a-4563-efdf-5a1d9d0fa036"
      },
      "execution_count": null,
      "outputs": [
        {
          "output_type": "execute_result",
          "data": {
            "text/plain": [
              "8"
            ]
          },
          "metadata": {},
          "execution_count": 128
        }
      ]
    },
    {
      "cell_type": "code",
      "source": [
        "a.sub()"
      ],
      "metadata": {
        "id": "wbIODu_Sh6V7"
      },
      "execution_count": null,
      "outputs": []
    },
    {
      "cell_type": "code",
      "source": [
        "a.div()"
      ],
      "metadata": {
        "colab": {
          "base_uri": "https://localhost:8080/"
        },
        "id": "7RURuCLqh7Tr",
        "outputId": "a1045677-29e6-4dff-ea3b-e87dffa5c120"
      },
      "execution_count": null,
      "outputs": [
        {
          "output_type": "execute_result",
          "data": {
            "text/plain": [
              "2.0"
            ]
          },
          "metadata": {},
          "execution_count": 130
        }
      ]
    },
    {
      "cell_type": "code",
      "source": [
        "b.add()"
      ],
      "metadata": {
        "colab": {
          "base_uri": "https://localhost:8080/"
        },
        "id": "GBSZfNF-h8MK",
        "outputId": "56d27620-8904-4f7a-fef1-7e9472f0415a"
      },
      "execution_count": null,
      "outputs": [
        {
          "output_type": "execute_result",
          "data": {
            "text/plain": [
              "11"
            ]
          },
          "metadata": {},
          "execution_count": 131
        }
      ]
    },
    {
      "cell_type": "code",
      "source": [
        "b.mul()"
      ],
      "metadata": {
        "colab": {
          "base_uri": "https://localhost:8080/"
        },
        "id": "wr6gilrQh9Ir",
        "outputId": "f76d9870-afe2-499a-c55d-2e7d1561598c"
      },
      "execution_count": null,
      "outputs": [
        {
          "output_type": "execute_result",
          "data": {
            "text/plain": [
              "24"
            ]
          },
          "metadata": {},
          "execution_count": 132
        }
      ]
    },
    {
      "cell_type": "code",
      "source": [
        "b.sub()"
      ],
      "metadata": {
        "id": "9uYWc0SQh-b7"
      },
      "execution_count": null,
      "outputs": []
    },
    {
      "cell_type": "code",
      "source": [
        "b.div()"
      ],
      "metadata": {
        "colab": {
          "base_uri": "https://localhost:8080/"
        },
        "id": "P0Ob2An5h_dr",
        "outputId": "44a5391d-02b6-4305-f731-e0f64fd78ab2"
      },
      "execution_count": null,
      "outputs": [
        {
          "output_type": "execute_result",
          "data": {
            "text/plain": [
              "0.375"
            ]
          },
          "metadata": {},
          "execution_count": 136
        }
      ]
    },
    {
      "cell_type": "code",
      "source": [
        "class FourCal:\n",
        "  def __init__(self, first, second):\n",
        "    self.first = first\n",
        "    self.second = second\n",
        "  def setdata(self, first, second):\n",
        "    self.first = first\n",
        "    self.second = second\n",
        "  def add(self):\n",
        "    result = self.first + self.second\n",
        "    return result\n",
        "  def mul(self):\n",
        "    result = self.first * self.second\n",
        "    return result\n",
        "  def sub(self):\n",
        "    result = self.first - self.second\n",
        "  def div(self):\n",
        "    result = self.first / self.second\n",
        "    return result"
      ],
      "metadata": {
        "id": "U33J0qCHiAPb"
      },
      "execution_count": null,
      "outputs": []
    },
    {
      "cell_type": "code",
      "source": [
        "a = FourCal(4, 2)\n",
        "print(a.first)"
      ],
      "metadata": {
        "colab": {
          "base_uri": "https://localhost:8080/"
        },
        "id": "4Guc9Nnpj_mb",
        "outputId": "915a6310-f78c-40b1-82b6-fddac87d9e13"
      },
      "execution_count": null,
      "outputs": [
        {
          "output_type": "stream",
          "name": "stdout",
          "text": [
            "4\n"
          ]
        }
      ]
    },
    {
      "cell_type": "code",
      "source": [
        "print(a.second)"
      ],
      "metadata": {
        "colab": {
          "base_uri": "https://localhost:8080/"
        },
        "id": "-zon9Y7HkRWX",
        "outputId": "614ceddb-f090-4ae4-a17a-f9e6c2556bc8"
      },
      "execution_count": null,
      "outputs": [
        {
          "output_type": "stream",
          "name": "stdout",
          "text": [
            "2\n"
          ]
        }
      ]
    },
    {
      "cell_type": "code",
      "source": [
        "print(a.div())"
      ],
      "metadata": {
        "colab": {
          "base_uri": "https://localhost:8080/"
        },
        "id": "rsZjxNQSkwst",
        "outputId": "af43bedc-2207-467d-9147-4be29b19a11b"
      },
      "execution_count": null,
      "outputs": [
        {
          "output_type": "stream",
          "name": "stdout",
          "text": [
            "2.0\n"
          ]
        }
      ]
    },
    {
      "cell_type": "markdown",
      "source": [
        "# class 상속\n",
        "\n",
        "* 기존 클래스를 변경하지 않고 기능을 추가하거나 기존 기능을 변경할 때 사용"
      ],
      "metadata": {
        "id": "W7AK79rLlFAb"
      }
    },
    {
      "cell_type": "code",
      "source": [
        "class MoreFourCal(FourCal):\n",
        "  pass"
      ],
      "metadata": {
        "id": "kjUBrBtZk077"
      },
      "execution_count": null,
      "outputs": []
    },
    {
      "cell_type": "code",
      "source": [
        "a = MoreFourCal(4, 2)\n",
        "a.add()"
      ],
      "metadata": {
        "colab": {
          "base_uri": "https://localhost:8080/"
        },
        "id": "Bblu0ZpGlSQr",
        "outputId": "5517a819-dfc6-4968-a094-b3ec48015ad0"
      },
      "execution_count": null,
      "outputs": [
        {
          "output_type": "execute_result",
          "data": {
            "text/plain": [
              "6"
            ]
          },
          "metadata": {},
          "execution_count": 153
        }
      ]
    },
    {
      "cell_type": "code",
      "source": [
        "a.mul()"
      ],
      "metadata": {
        "colab": {
          "base_uri": "https://localhost:8080/"
        },
        "id": "Fcf13H08lXgb",
        "outputId": "6dd96cee-b4af-4497-b755-128822ae150e"
      },
      "execution_count": null,
      "outputs": [
        {
          "output_type": "execute_result",
          "data": {
            "text/plain": [
              "8"
            ]
          },
          "metadata": {},
          "execution_count": 154
        }
      ]
    },
    {
      "cell_type": "code",
      "source": [
        "a.sub()"
      ],
      "metadata": {
        "id": "Rh3PR-j9lZQ7"
      },
      "execution_count": null,
      "outputs": []
    },
    {
      "cell_type": "code",
      "source": [
        "a.div()"
      ],
      "metadata": {
        "colab": {
          "base_uri": "https://localhost:8080/"
        },
        "id": "Fuo4r9kjlaM7",
        "outputId": "b15d4ad5-5d7a-44a2-c580-36b0c2f2edeb"
      },
      "execution_count": null,
      "outputs": [
        {
          "output_type": "execute_result",
          "data": {
            "text/plain": [
              "2.0"
            ]
          },
          "metadata": {},
          "execution_count": 157
        }
      ]
    },
    {
      "cell_type": "markdown",
      "source": [
        "## 클래스 상속 제곱기능 추가"
      ],
      "metadata": {
        "id": "AQQkaVQ9mJLb"
      }
    },
    {
      "cell_type": "code",
      "source": [
        "class MoreFourCal(FourCal):\n",
        "  def pow(self):\n",
        "    result = self.first ** self.second\n",
        "    return result"
      ],
      "metadata": {
        "id": "aSHAu3jklbI7"
      },
      "execution_count": null,
      "outputs": []
    },
    {
      "cell_type": "code",
      "source": [
        "a = MoreFourCal(4, 2)\n",
        "a.pow()"
      ],
      "metadata": {
        "colab": {
          "base_uri": "https://localhost:8080/"
        },
        "id": "Rx7IwINNmF5b",
        "outputId": "a8ec20f1-7f3b-4342-f844-7aac3abcc05a"
      },
      "execution_count": null,
      "outputs": [
        {
          "output_type": "execute_result",
          "data": {
            "text/plain": [
              "16"
            ]
          },
          "metadata": {},
          "execution_count": 159
        }
      ]
    },
    {
      "cell_type": "code",
      "source": [
        "a = FourCal(4, 0)\n",
        "a.div()"
      ],
      "metadata": {
        "colab": {
          "base_uri": "https://localhost:8080/",
          "height": 303
        },
        "id": "N9ljwBJamQw7",
        "outputId": "44a748f4-edc1-48f2-a125-fa703197d66d"
      },
      "execution_count": null,
      "outputs": [
        {
          "output_type": "error",
          "ename": "ZeroDivisionError",
          "evalue": "ignored",
          "traceback": [
            "\u001b[0;31m---------------------------------------------------------------------------\u001b[0m",
            "\u001b[0;31mZeroDivisionError\u001b[0m                         Traceback (most recent call last)",
            "\u001b[0;32m<ipython-input-160-5e9b2f546e11>\u001b[0m in \u001b[0;36m<module>\u001b[0;34m()\u001b[0m\n\u001b[1;32m      1\u001b[0m \u001b[0ma\u001b[0m \u001b[0;34m=\u001b[0m \u001b[0mFourCal\u001b[0m\u001b[0;34m(\u001b[0m\u001b[0;36m4\u001b[0m\u001b[0;34m,\u001b[0m \u001b[0;36m0\u001b[0m\u001b[0;34m)\u001b[0m\u001b[0;34m\u001b[0m\u001b[0;34m\u001b[0m\u001b[0m\n\u001b[0;32m----> 2\u001b[0;31m \u001b[0ma\u001b[0m\u001b[0;34m.\u001b[0m\u001b[0mdiv\u001b[0m\u001b[0;34m(\u001b[0m\u001b[0;34m)\u001b[0m\u001b[0;34m\u001b[0m\u001b[0;34m\u001b[0m\u001b[0m\n\u001b[0m",
            "\u001b[0;32m<ipython-input-143-160f13a91fd8>\u001b[0m in \u001b[0;36mdiv\u001b[0;34m(self)\u001b[0m\n\u001b[1;32m     15\u001b[0m     \u001b[0mresult\u001b[0m \u001b[0;34m=\u001b[0m \u001b[0mself\u001b[0m\u001b[0;34m.\u001b[0m\u001b[0mfirst\u001b[0m \u001b[0;34m-\u001b[0m \u001b[0mself\u001b[0m\u001b[0;34m.\u001b[0m\u001b[0msecond\u001b[0m\u001b[0;34m\u001b[0m\u001b[0;34m\u001b[0m\u001b[0m\n\u001b[1;32m     16\u001b[0m   \u001b[0;32mdef\u001b[0m \u001b[0mdiv\u001b[0m\u001b[0;34m(\u001b[0m\u001b[0mself\u001b[0m\u001b[0;34m)\u001b[0m\u001b[0;34m:\u001b[0m\u001b[0;34m\u001b[0m\u001b[0;34m\u001b[0m\u001b[0m\n\u001b[0;32m---> 17\u001b[0;31m     \u001b[0mresult\u001b[0m \u001b[0;34m=\u001b[0m \u001b[0mself\u001b[0m\u001b[0;34m.\u001b[0m\u001b[0mfirst\u001b[0m \u001b[0;34m/\u001b[0m \u001b[0mself\u001b[0m\u001b[0;34m.\u001b[0m\u001b[0msecond\u001b[0m\u001b[0;34m\u001b[0m\u001b[0;34m\u001b[0m\u001b[0m\n\u001b[0m\u001b[1;32m     18\u001b[0m     \u001b[0;32mreturn\u001b[0m \u001b[0mresult\u001b[0m\u001b[0;34m\u001b[0m\u001b[0;34m\u001b[0m\u001b[0m\n",
            "\u001b[0;31mZeroDivisionError\u001b[0m: division by zero"
          ]
        }
      ]
    },
    {
      "cell_type": "markdown",
      "source": [
        "# 메서드 오버라이딩\n",
        "* 상속받을 대상인 클래스의 메서드와 이름은 같지만 그 행동을 다르게 해야하는 경우\n",
        "* 메서드 이름을 동일하게 다시 구현하는 것을 메서드 오버라이딩(Overriding)\n",
        "* 메서드 기능 개선 가능"
      ],
      "metadata": {
        "id": "6bZSaWtt2Fia"
      }
    },
    {
      "cell_type": "code",
      "source": [
        "class SafeFourCal(FourCal):\n",
        "  def div(self):\n",
        "    if self.second == 0:\n",
        "      return 0\n",
        "    else:\n",
        "      return self.first / self.second"
      ],
      "metadata": {
        "id": "PDmy2yqs1zaL"
      },
      "execution_count": null,
      "outputs": []
    },
    {
      "cell_type": "code",
      "source": [
        "class Car:\n",
        "  color = \"\"\n",
        "  speed = 0\n",
        "  def upSpeed(self, value):\n",
        "    self.speed += value\n",
        "    \n",
        "  def downSpeed(self, value):\n",
        "    self.speed -= value"
      ],
      "metadata": {
        "id": "gmsW7gtu2D2q"
      },
      "execution_count": null,
      "outputs": []
    },
    {
      "cell_type": "code",
      "source": [
        "class Car:\n",
        "  color = \"\"\n",
        "  speed = 0\n",
        "  def upSpeed(self, value):\n",
        "    self.speed += value\n",
        "    if self.speed > 150:\n",
        "      self.speed = 150\n",
        "    \n",
        "  def downSpeed(self, value):\n",
        "    self.speed -= value"
      ],
      "metadata": {
        "id": "x2ScxH4I9av6"
      },
      "execution_count": null,
      "outputs": []
    },
    {
      "cell_type": "code",
      "source": [
        "myCar1 = Car()\n",
        "myCar1.color = \"빨강\"\n",
        "myCar1.speed = 0\n",
        "\n",
        "myCar2 = Car()\n",
        "myCar2.color = \"파랑\"\n",
        "myCar2.speed = 0\n",
        "\n",
        "myCar3 = Car()\n",
        "myCar3.color = \"노랑\"\n",
        "myCar3.speed = 0\n",
        "\n",
        "myCar4 = Car()\n",
        "myCar4.color = \"초록\"\n",
        "myCar4.speed = 0"
      ],
      "metadata": {
        "id": "lGWrOl8B45vA"
      },
      "execution_count": null,
      "outputs": []
    },
    {
      "cell_type": "code",
      "source": [
        "myCar1.upSpeed(200)\n",
        "print(\"자동차 1의 색상은 %s이며, 현재속도는 %dkm입니다.\" % (myCar1.color, myCar1.speed))"
      ],
      "metadata": {
        "colab": {
          "base_uri": "https://localhost:8080/"
        },
        "id": "M8ShNV4G5_cq",
        "outputId": "8e8ad481-7852-46d6-d429-07011df47f3d"
      },
      "execution_count": null,
      "outputs": [
        {
          "output_type": "stream",
          "name": "stdout",
          "text": [
            "자동차 1의 색상은 빨강이며, 현재속도는 423km입니다.\n"
          ]
        }
      ]
    },
    {
      "cell_type": "code",
      "source": [
        "myCar2.upSpeed(60)\n",
        "print(\"자동차 2의 색상은 %s이며, 현재속도는 %dkm입니다.\" % (myCar2.color, myCar2.speed))"
      ],
      "metadata": {
        "colab": {
          "base_uri": "https://localhost:8080/"
        },
        "id": "W0X_QSxX6E8J",
        "outputId": "f40d81b7-85dc-452d-81a2-d90e9ab04063"
      },
      "execution_count": null,
      "outputs": [
        {
          "output_type": "stream",
          "name": "stdout",
          "text": [
            "자동차 2의 색상은 파랑이며, 현재속도는 60km입니다.\n"
          ]
        }
      ]
    },
    {
      "cell_type": "code",
      "source": [
        "myCar3.upSpeed(0)\n",
        "print(\"자동차 3의 색상은 %s이며, 현재속도는 %dkm입니다.\" % (myCar3.color, myCar3.speed))"
      ],
      "metadata": {
        "colab": {
          "base_uri": "https://localhost:8080/"
        },
        "id": "ZRyDTu3B6bhr",
        "outputId": "8410ca6f-8d51-42d1-aac7-e3037d02e2fb"
      },
      "execution_count": null,
      "outputs": [
        {
          "output_type": "stream",
          "name": "stdout",
          "text": [
            "자동차 3의 색상은 노랑이며, 현재속도는 0km입니다.\n"
          ]
        }
      ]
    },
    {
      "cell_type": "code",
      "source": [
        "myCar4.upSpeed(200)\n",
        "print(\"자동차 3의 색상은 %s이며, 현재속도는 %dkm입니다.\" % (myCar4.color, myCar4.speed))"
      ],
      "metadata": {
        "colab": {
          "base_uri": "https://localhost:8080/"
        },
        "id": "bCcBRs6o9nFy",
        "outputId": "368f0c4e-37fc-4989-f7f6-498d5b6df1ae"
      },
      "execution_count": null,
      "outputs": [
        {
          "output_type": "stream",
          "name": "stdout",
          "text": [
            "자동차 3의 색상은 초록이며, 현재속도는 150km입니다.\n"
          ]
        }
      ]
    },
    {
      "cell_type": "code",
      "source": [
        "class Car:\n",
        "  color = \"\"\n",
        "  speed = 0\n",
        "\n",
        "  def __init__(self, value1 , value2):\n",
        "    self.color = value1\n",
        "    self.speed = value2\n",
        "\n",
        "  def upSpeed(self, value):\n",
        "    self.speed += value\n",
        "    \n",
        "  def downSpeed(self, value):\n",
        "    self.speed -= value\n",
        "\n",
        "myCar1 = Car('빨강', 30)\n",
        "myCar2 = Car('파랑', 60)"
      ],
      "metadata": {
        "id": "ZSoGepzS7bea"
      },
      "execution_count": null,
      "outputs": []
    },
    {
      "cell_type": "code",
      "source": [
        "print(myCar1.color, myCar1.speed)"
      ],
      "metadata": {
        "colab": {
          "base_uri": "https://localhost:8080/"
        },
        "id": "__dKt8i--4NJ",
        "outputId": "a3c50d44-c822-4d96-e707-c115cff094bb"
      },
      "execution_count": null,
      "outputs": [
        {
          "output_type": "stream",
          "name": "stdout",
          "text": [
            "빨강 30\n"
          ]
        }
      ]
    },
    {
      "cell_type": "code",
      "source": [
        "class Car:\n",
        "  speed = 0\n",
        "  def upSpeed(self, value):\n",
        "    self.speed += value\n",
        "    print(\"현재 속도(슈퍼클래스) : %d\" % self.speed )\n",
        "\n",
        "class Sedan(Car):\n",
        "  def upSpeed(self, value):\n",
        "    self.speed += value\n",
        "    if self.speed > 150:\n",
        "      self.speed =150\n",
        "      print(\"현재 속도(서브클래스) : %d\" % self.speed )\n",
        "\n",
        "class Sonata(Sedan):\n",
        "  def upSpeed(self, value):\n",
        "    self.speed += value\n",
        "    print(\"현재속도(서브클래스) : %d\" % self.speed)"
      ],
      "metadata": {
        "id": "uKvibXgl_PN5"
      },
      "execution_count": null,
      "outputs": []
    },
    {
      "cell_type": "code",
      "source": [
        "class Truck(Car):\n",
        "  pass"
      ],
      "metadata": {
        "id": "jJUAUeBUFBdh"
      },
      "execution_count": null,
      "outputs": []
    },
    {
      "cell_type": "code",
      "source": [
        "class Suv(Sedan):\n",
        "  pass"
      ],
      "metadata": {
        "id": "tlKDSpm8K-lx"
      },
      "execution_count": null,
      "outputs": []
    },
    {
      "cell_type": "code",
      "source": [
        "suv1 = Suv()"
      ],
      "metadata": {
        "id": "gGnH0MUtLSaq"
      },
      "execution_count": null,
      "outputs": []
    },
    {
      "cell_type": "code",
      "source": [
        "print(\"Suv ->\", end=\"\")\n",
        "suv1.upSpeed(200)"
      ],
      "metadata": {
        "colab": {
          "base_uri": "https://localhost:8080/"
        },
        "id": "YdXR3Q7VLG-w",
        "outputId": "3907c3c8-3905-4df9-d771-8b2de99cc881"
      },
      "execution_count": null,
      "outputs": [
        {
          "output_type": "stream",
          "name": "stdout",
          "text": [
            "Suv ->현재 속도(서브클래스) : 150\n"
          ]
        }
      ]
    },
    {
      "cell_type": "code",
      "source": [
        "truck1 = Truck()\n",
        "sedan1 = Sedan()\n",
        "sonata1 = Sonata()"
      ],
      "metadata": {
        "id": "cCnlb7ysFBap"
      },
      "execution_count": null,
      "outputs": []
    },
    {
      "cell_type": "code",
      "source": [
        "print(\"트럭 ->\", end=\"\")\n",
        "truck1.upSpeed(200)"
      ],
      "metadata": {
        "colab": {
          "base_uri": "https://localhost:8080/"
        },
        "id": "uM8CxBwpFNJ6",
        "outputId": "b6dd9489-6e12-47a0-f718-d4e425257585"
      },
      "execution_count": null,
      "outputs": [
        {
          "output_type": "stream",
          "name": "stdout",
          "text": [
            "트럭 ->현재 속도(슈퍼클래스) : 200\n"
          ]
        }
      ]
    },
    {
      "cell_type": "code",
      "source": [
        "print(\"승용차 ->\", end=\"\")\n",
        "sedan1.upSpeed(200)"
      ],
      "metadata": {
        "colab": {
          "base_uri": "https://localhost:8080/"
        },
        "id": "TY4OO8TVFXN5",
        "outputId": "b58b0324-f7bf-484a-909d-5f724fcb9d12"
      },
      "execution_count": null,
      "outputs": [
        {
          "output_type": "stream",
          "name": "stdout",
          "text": [
            "승용차 ->현재 속도(서브클래스) : 150\n"
          ]
        }
      ]
    },
    {
      "cell_type": "code",
      "source": [
        "print(\"소나타 ->\", end=\"\")\n",
        "sonata1.upSpeed(150)"
      ],
      "metadata": {
        "colab": {
          "base_uri": "https://localhost:8080/"
        },
        "id": "XgZblDuzF8ho",
        "outputId": "24696aca-8799-45be-fbd3-55122d235834"
      },
      "execution_count": null,
      "outputs": [
        {
          "output_type": "stream",
          "name": "stdout",
          "text": [
            "소나타 ->현재속도(서브클래스) : 350\n"
          ]
        }
      ]
    },
    {
      "cell_type": "code",
      "source": [
        "class Car:\n",
        "  speed = 0\n",
        "  def upSpeed(self, value):\n",
        "    self.speed += value\n",
        "    print(\"현재 속도(슈퍼클래스) : %d\" % self.speed )\n",
        "\n",
        "class Sedan(Car):\n",
        "  def upSpeed(self, value):\n",
        "    self.speed += value\n",
        "    if self.speed > 150:\n",
        "      self.speed =150\n",
        "      print(\"현재 속도(서브클래스) : %d\" % self.speed )\n",
        "\n",
        "class Sonata(Sedan):\n",
        "  def upSpeed(self, value):\n",
        "    self.speed += value\n",
        "    print(\"현재속도(서브클래스) : %d\" % self.speed)\n",
        "\n",
        "truck1 = Truck()\n",
        "sedan1 = Sedan()\n",
        "sonata1 = Sonata()\n",
        "\n",
        "print(\"트럭 ->\", end=\"\")\n",
        "truck1.upSpeed(200)\n",
        "\n",
        "print(\"승용차 ->\", end=\"\")\n",
        "sedan1.upSpeed(200)\n",
        "\n",
        "print(\"소나타 ->\", end=\"\")\n",
        "sonata1.upSpeed(150)"
      ],
      "metadata": {
        "colab": {
          "base_uri": "https://localhost:8080/"
        },
        "id": "Vy32Xbr2KPSU",
        "outputId": "50b53e0e-8509-40c8-8df7-aaadadb97e3d"
      },
      "execution_count": null,
      "outputs": [
        {
          "output_type": "stream",
          "name": "stdout",
          "text": [
            "트럭 ->현재 속도(슈퍼클래스) : 200\n",
            "승용차 ->현재 속도(서브클래스) : 150\n",
            "소나타 ->현재속도(서브클래스) : 150\n"
          ]
        }
      ]
    },
    {
      "cell_type": "code",
      "source": [
        "class Car:\n",
        "  speed = 0\n",
        "  def upSpeed(self, value):\n",
        "    self.speed += value\n",
        "    print(\"현재 속도(슈퍼클래스) : %d\" % self.speed )\n",
        "\n",
        "class Sedan(Car):\n",
        "  def upSpeed(self, value):\n",
        "    self.speed += value\n",
        "    if self.speed > 150:\n",
        "      self.speed =150\n",
        "      print(\"현재 속도(서브클래스) : %d\" % self.speed )\n",
        "\n",
        "class Sonata(Sedan):\n",
        "  pass\n",
        "\n",
        "truck1 = Truck()\n",
        "sedan1 = Sedan()\n",
        "sonata1 = Sonata()\n",
        "\n",
        "print(\"트럭 ->\", end=\"\")\n",
        "truck1.upSpeed(200)\n",
        "\n",
        "print(\"승용차 ->\", end=\"\")\n",
        "sedan1.upSpeed(200)\n",
        "\n",
        "print(\"소나타 ->\", end=\"\")\n",
        "sonata1.upSpeed(200)"
      ],
      "metadata": {
        "colab": {
          "base_uri": "https://localhost:8080/"
        },
        "id": "UH3-Nkf7Koap",
        "outputId": "dcfa175d-bb72-458d-e5f9-6f06e6a12d05"
      },
      "execution_count": null,
      "outputs": [
        {
          "output_type": "stream",
          "name": "stdout",
          "text": [
            "트럭 ->현재 속도(슈퍼클래스) : 200\n",
            "승용차 ->현재 속도(서브클래스) : 150\n",
            "소나타 ->현재 속도(서브클래스) : 150\n"
          ]
        }
      ]
    },
    {
      "cell_type": "code",
      "source": [
        "import random\n",
        "def getNumber():\n",
        "  return random.randrange(1, 46)\n",
        "\n",
        "lotto = []\n",
        "num = 0"
      ],
      "metadata": {
        "id": "74_1jeDwLmj4"
      },
      "execution_count": null,
      "outputs": []
    },
    {
      "cell_type": "code",
      "source": [
        "while True:\n",
        "  num = getNumber()\n",
        "  if lotto.count(num) == 0:\n",
        "    lotto.append(num)\n",
        "\n",
        "  if len(lotto) >= 6:\n",
        "    break\n",
        "\n",
        "print(\"** 로또 추첨을 시작합니다. **\\n\", end='')\n",
        "lotto.sort()\n",
        "for i in range(0, 6):\n",
        "  print(\"%d \" %lotto[i], end='')"
      ],
      "metadata": {
        "colab": {
          "base_uri": "https://localhost:8080/"
        },
        "id": "shXm_NPgMPtv",
        "outputId": "d23b4ea0-3989-4717-b79b-7acc770173a5"
      },
      "execution_count": null,
      "outputs": [
        {
          "output_type": "stream",
          "name": "stdout",
          "text": [
            "** 로또 추첨을 시작합니다. **\n",
            "0 2 5 9 18 24 "
          ]
        }
      ]
    },
    {
      "cell_type": "code",
      "source": [
        "birth = int(input(\"당신이 태어난 연도를 입력하세요\"))\n",
        "age = 2022 - birth + 1\n",
        "\n",
        "if 20 <= age <= 26:\n",
        "  print('대학생')\n",
        "elif 17 <= age <= 19:\n",
        "  print('고등학생')\n",
        "elif 14 <= age <= 16:\n",
        "  print('중학생')\n",
        "elif 8 <= age <= 13:\n",
        "  print('초등학생')\n",
        "else:\n",
        "  print('나이는 %d 학생이 아닙니다.' % age)"
      ],
      "metadata": {
        "colab": {
          "base_uri": "https://localhost:8080/"
        },
        "id": "gJvi1uhNTIqp",
        "outputId": "af35ab5e-bad5-4460-e5e0-a9294c4a4e18"
      },
      "execution_count": null,
      "outputs": [
        {
          "output_type": "stream",
          "name": "stdout",
          "text": [
            "당신이 태어난 연도를 입력하세요2019\n",
            "나이는 4 학생이 아닙니다.\n"
          ]
        }
      ]
    },
    {
      "cell_type": "code",
      "source": [
        "class Sesac:\n",
        "  age = 0\n",
        "  name = \"\"\n",
        "\n",
        "  def __init__(self, value1 , value2):\n",
        "    self.age = value1\n",
        "    self.name = value2\n",
        "\n",
        "  def hello(self):\n",
        "    self.age, self.name\n",
        "    print(\"%d살 %s입니다.\" % (self.age, self.name))\n",
        "    \n",
        "    \n",
        "lee = Sesac(25, \"이새싹\")\n",
        "lee.hello()\n",
        "lee = Sesac(22, \"김새싹\")\n",
        "lee.hello()"
      ],
      "metadata": {
        "colab": {
          "base_uri": "https://localhost:8080/"
        },
        "id": "wImqeMAo0_3G",
        "outputId": "9a74caea-1805-4aec-fe89-3e33d93d3142"
      },
      "execution_count": null,
      "outputs": [
        {
          "output_type": "stream",
          "name": "stdout",
          "text": [
            "25살 이새싹입니다.\n",
            "22살 김새싹입니다.\n"
          ]
        }
      ]
    },
    {
      "cell_type": "code",
      "source": [
        "class Car:\n",
        "  speed = 0\n",
        "  def upSpeed(self, value):\n",
        "    self.speed += value\n",
        "    print(\"현재 속도(슈퍼클래스) : %d\" % self.speed )\n",
        "\n",
        "class Sedan(Car):\n",
        "  def upSpeed(self, value):\n",
        "    self.speed += value\n",
        "    if self.speed > 150:\n",
        "      self.speed =150\n",
        "      print(\"현재 속도(서브클래스) : %d\" % self.speed )\n",
        "\n",
        "class Sonata(Sedan):\n",
        "  pass"
      ],
      "metadata": {
        "id": "SscVucI01Udl"
      },
      "execution_count": null,
      "outputs": []
    },
    {
      "cell_type": "code",
      "source": [
        "class Student(Sesac):\n",
        "  def sesac_study(self):\n",
        "    print(\"하루라도 문제를 풀지 않으면 손에 가시가 돋친다\")\n",
        "\n",
        "  def today(self):\n",
        "    print(\"비가 많이 내립니다.\")\n",
        "\n",
        "lee = Student(25, \"이새싹\", 990011)\n",
        "lee.hello()\n",
        "lee.sesac_study()"
      ],
      "metadata": {
        "colab": {
          "base_uri": "https://localhost:8080/",
          "height": 248
        },
        "id": "EdCX_K9d1APH",
        "outputId": "f72eb960-28b2-475c-8331-da0df2ad1612"
      },
      "execution_count": null,
      "outputs": [
        {
          "output_type": "error",
          "ename": "TypeError",
          "evalue": "ignored",
          "traceback": [
            "\u001b[0;31m---------------------------------------------------------------------------\u001b[0m",
            "\u001b[0;31mTypeError\u001b[0m                                 Traceback (most recent call last)",
            "\u001b[0;32m<ipython-input-48-148a53c518cf>\u001b[0m in \u001b[0;36m<module>\u001b[0;34m()\u001b[0m\n\u001b[1;32m      6\u001b[0m     \u001b[0mprint\u001b[0m\u001b[0;34m(\u001b[0m\u001b[0;34m\"비가 많이 내립니다.\"\u001b[0m\u001b[0;34m)\u001b[0m\u001b[0;34m\u001b[0m\u001b[0;34m\u001b[0m\u001b[0m\n\u001b[1;32m      7\u001b[0m \u001b[0;34m\u001b[0m\u001b[0m\n\u001b[0;32m----> 8\u001b[0;31m \u001b[0mlee\u001b[0m \u001b[0;34m=\u001b[0m \u001b[0mStudent\u001b[0m\u001b[0;34m(\u001b[0m\u001b[0;36m25\u001b[0m\u001b[0;34m,\u001b[0m \u001b[0;34m\"이새싹\"\u001b[0m\u001b[0;34m,\u001b[0m \u001b[0;36m990011\u001b[0m\u001b[0;34m)\u001b[0m\u001b[0;34m\u001b[0m\u001b[0;34m\u001b[0m\u001b[0m\n\u001b[0m\u001b[1;32m      9\u001b[0m \u001b[0mlee\u001b[0m\u001b[0;34m.\u001b[0m\u001b[0mhello\u001b[0m\u001b[0;34m(\u001b[0m\u001b[0;34m)\u001b[0m\u001b[0;34m\u001b[0m\u001b[0;34m\u001b[0m\u001b[0m\n\u001b[1;32m     10\u001b[0m \u001b[0mlee\u001b[0m\u001b[0;34m.\u001b[0m\u001b[0msesac_study\u001b[0m\u001b[0;34m(\u001b[0m\u001b[0;34m)\u001b[0m\u001b[0;34m\u001b[0m\u001b[0;34m\u001b[0m\u001b[0m\n",
            "\u001b[0;31mTypeError\u001b[0m: __init__() takes 3 positional arguments but 4 were given"
          ]
        }
      ]
    },
    {
      "cell_type": "code",
      "source": [
        ""
      ],
      "metadata": {
        "id": "p74uwEqN2Lb9"
      },
      "execution_count": null,
      "outputs": []
    }
  ]
}